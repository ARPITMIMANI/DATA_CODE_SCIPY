{
 "cells": [
  {
   "cell_type": "code",
   "execution_count": 1,
   "id": "29ec8584",
   "metadata": {},
   "outputs": [
    {
     "name": "stdout",
     "output_type": "stream",
     "text": [
      "[-0.73908513]\n"
     ]
    }
   ],
   "source": [
    "''' OPTIMIZERS IN SCIPY : THEY ARE A SET OF PROCEDURES DEFINED IN SCIPY THAT EITHER \n",
    "FIND THE MINIMUM VALUE OF A FUNCTION OR A ROOT OF AN FUNCTION. '''\n",
    "\n",
    "# scipy.optimize FUNCTION : ALL THE ALGORITHMS WHICH HELPS IN MINIMIZING THE DATA.\n",
    "# ROOT OF AN EQUATION : IT IS DONE BY USING scipy.optimize.root FUNCTION.\n",
    "# root FUCTION TAKES 2 ARGUMENTS : FUNCTION , x0 \n",
    "\n",
    "from scipy.optimize import root\n",
    "from math import cos\n",
    "\n",
    "def eqn(x):\n",
    "    return x + cos(x)\n",
    "myroot = root ( eqn , 0 )\n",
    "print ( myroot.x )"
   ]
  },
  {
   "cell_type": "code",
   "execution_count": 2,
   "id": "4a611a25",
   "metadata": {},
   "outputs": [
    {
     "name": "stdout",
     "output_type": "stream",
     "text": [
      " message: The solution converged.\n",
      " success: True\n",
      "  status: 1\n",
      "     fun: [ 0.000e+00]\n",
      "       x: [-7.391e-01]\n",
      "    nfev: 9\n",
      "    fjac: [[-1.000e+00]]\n",
      "       r: [-1.674e+00]\n",
      "     qtf: [-2.668e-13]\n"
     ]
    }
   ],
   "source": [
    "print(myroot)"
   ]
  },
  {
   "cell_type": "code",
   "execution_count": 3,
   "id": "24fd772f",
   "metadata": {},
   "outputs": [
    {
     "name": "stdout",
     "output_type": "stream",
     "text": [
      " message: The solution converged.\n",
      " success: True\n",
      "  status: 1\n",
      "     fun: [ 0.000e+00]\n",
      "       x: [-7.391e-01]\n",
      "    nfev: 9\n",
      "    fjac: [[-1.000e+00]]\n",
      "       r: [-1.674e+00]\n",
      "     qtf: [-2.668e-13]\n"
     ]
    }
   ],
   "source": [
    "def eqn(x):\n",
    "    return x + cos(x)\n",
    "myroot = root ( eqn , 0 )\n",
    "print(myroot)"
   ]
  },
  {
   "cell_type": "code",
   "execution_count": 4,
   "id": "860d7c39",
   "metadata": {},
   "outputs": [
    {
     "name": "stdout",
     "output_type": "stream",
     "text": [
      "  message: Optimization terminated successfully.\n",
      "  success: True\n",
      "   status: 0\n",
      "      fun: 1.75\n",
      "        x: [-5.000e-01]\n",
      "      nit: 2\n",
      "      jac: [ 0.000e+00]\n",
      " hess_inv: [[ 5.000e-01]]\n",
      "     nfev: 8\n",
      "     njev: 4\n"
     ]
    }
   ],
   "source": [
    "# HIGH POINTS ARE CALLED MAXIMA\n",
    "# LOW POINTS ARE CALLED MINIMA\n",
    "# MINIMUM OF AN EQUATION : IT IS DONE BY USING scipy.optimize.minimize FUNCTION.\n",
    "# minimize FUCTION TAKES 3 ARGUMENTS : FUNCTION , x0 , method \n",
    "# method HAS SOME LEGAL VALUES : \"CG\" , \"BFGS\" , \"L-BFGS-B\" , \"TNC\" , \"COBYLA\" , \"SLSQP\" , \"Newton-CG\" ETC...\n",
    "# CALLBACK : FUNCTIONS ARE CALLED AFTER EACH ITERATION OF OPTIMIZATION.\n",
    "\n",
    "from scipy.optimize import minimize\n",
    "\n",
    "def equation(x):\n",
    "    return x**2 + x + 2\n",
    "mymin = minimize ( equation , 0 , method=\"BFGS\" )\n",
    "print(mymin)"
   ]
  },
  {
   "cell_type": "code",
   "execution_count": 5,
   "id": "7ba2c02a",
   "metadata": {},
   "outputs": [
    {
     "name": "stdout",
     "output_type": "stream",
     "text": [
      " message: Optimization terminated successfully.\n",
      " success: True\n",
      "  status: 0\n",
      "     fun: 1.75\n",
      "       x: [-5.000e-01]\n",
      "     nit: 2\n",
      "     jac: [ 2.980e-08]\n",
      "    nfev: 10\n",
      "    njev: 5\n"
     ]
    }
   ],
   "source": [
    "from scipy.optimize import minimize\n",
    "\n",
    "def equation(x):\n",
    "    return x**2 + x + 2\n",
    "mymin = minimize ( equation , 0 , method=\"CG\" )\n",
    "print(mymin)"
   ]
  },
  {
   "cell_type": "code",
   "execution_count": 6,
   "id": "21382c8b",
   "metadata": {},
   "outputs": [
    {
     "name": "stdout",
     "output_type": "stream",
     "text": [
      " message: Local minimum reached (|pg| ~= 0)\n",
      " success: True\n",
      "  status: 0\n",
      "     fun: 1.75\n",
      "       x: [-5.000e-01]\n",
      "     nit: 1\n",
      "     jac: [ 2.220e-08]\n",
      "    nfev: 8\n"
     ]
    }
   ],
   "source": [
    "from scipy.optimize import minimize\n",
    "\n",
    "def equation(x):\n",
    "    return x**2 + x + 2\n",
    "mymin = minimize ( equation , 0 , method=\"TNC\" )\n",
    "print(mymin)"
   ]
  },
  {
   "cell_type": "code",
   "execution_count": 7,
   "id": "a0e757ac",
   "metadata": {},
   "outputs": [
    {
     "name": "stdout",
     "output_type": "stream",
     "text": [
      " message: Optimization terminated successfully.\n",
      " success: True\n",
      "  status: 1\n",
      "     fun: 1.75000001\n",
      "       x: [-5.001e-01]\n",
      "    nfev: 18\n",
      "   maxcv: 0.0\n"
     ]
    }
   ],
   "source": [
    "from scipy.optimize import minimize\n",
    "\n",
    "def equation(x):\n",
    "    return x**2 + x + 2\n",
    "mymin = minimize ( equation , 0 , method=\"COBYLA\" )\n",
    "print(mymin)"
   ]
  },
  {
   "cell_type": "code",
   "execution_count": 8,
   "id": "47a669d1",
   "metadata": {},
   "outputs": [
    {
     "name": "stdout",
     "output_type": "stream",
     "text": [
      " message: Optimization terminated successfully\n",
      " success: True\n",
      "  status: 0\n",
      "     fun: 1.75\n",
      "       x: [-5.000e-01]\n",
      "     nit: 2\n",
      "     jac: [ 1.490e-08]\n",
      "    nfev: 5\n",
      "    njev: 2\n"
     ]
    }
   ],
   "source": [
    "from scipy.optimize import minimize\n",
    "\n",
    "def equation(x):\n",
    "    return x**2 + x + 2\n",
    "mymin = minimize ( equation , 0 , method=\"SLSQP\" )\n",
    "print(mymin)"
   ]
  },
  {
   "cell_type": "code",
   "execution_count": 9,
   "id": "91bbcd3f",
   "metadata": {},
   "outputs": [
    {
     "name": "stdout",
     "output_type": "stream",
     "text": [
      "  message: CONVERGENCE: NORM_OF_PROJECTED_GRADIENT_<=_PGTOL\n",
      "  success: True\n",
      "   status: 0\n",
      "      fun: 1.75\n",
      "        x: [-5.000e-01]\n",
      "      nit: 2\n",
      "      jac: [ 0.000e+00]\n",
      "     nfev: 8\n",
      "     njev: 4\n",
      " hess_inv: <1x1 LbfgsInvHessProduct with dtype=float64>\n"
     ]
    }
   ],
   "source": [
    "from scipy.optimize import minimize\n",
    "\n",
    "def equation(x):\n",
    "    return x**2 + x + 2\n",
    "mymin = minimize ( equation , 0 , method=\"L-BFGS-B\" )\n",
    "print(mymin)"
   ]
  },
  {
   "cell_type": "code",
   "execution_count": null,
   "id": "1bc04398",
   "metadata": {},
   "outputs": [],
   "source": []
  }
 ],
 "metadata": {
  "kernelspec": {
   "display_name": "Python 3 (ipykernel)",
   "language": "python",
   "name": "python3"
  },
  "language_info": {
   "codemirror_mode": {
    "name": "ipython",
    "version": 3
   },
   "file_extension": ".py",
   "mimetype": "text/x-python",
   "name": "python",
   "nbconvert_exporter": "python",
   "pygments_lexer": "ipython3",
   "version": "3.10.9"
  }
 },
 "nbformat": 4,
 "nbformat_minor": 5
}
