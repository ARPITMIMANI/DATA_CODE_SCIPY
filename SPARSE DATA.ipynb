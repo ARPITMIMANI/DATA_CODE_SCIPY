{
 "cells": [
  {
   "cell_type": "code",
   "execution_count": 1,
   "id": "a2736a2f",
   "metadata": {},
   "outputs": [
    {
     "name": "stdout",
     "output_type": "stream",
     "text": [
      "  (0, 5)\t1\n",
      "  (0, 6)\t1\n",
      "  (0, 8)\t2\n"
     ]
    }
   ],
   "source": [
    "'''SPARSE DATA : IT IS THE DATA THAT HAS MOSTLY UNUSED ELEMENTS \n",
    "LIKE THE ELEMENTS THAT DO NOT CARRY ANY INFORMATION [1,0,2,0,4,5,6,9,2,4] '''\n",
    "\n",
    "# SPARSE DATA EXAMPLE : [1,0,2,0,0,3,0,0,0,0,0,4]\n",
    "# DENSE ARRAY EXAMPLE : [2,5,6,8,9,7,1,2,3,6]\n",
    "# SCIPY HAS A MODULE scipy.sparse \n",
    "# THERE ARE 2 MATRIX IN THE SPARSE MODULE CSR AND CSC.\n",
    "# CSR : COMPRESSED SPARSE ROW\n",
    "# CSC : COMPRESSED SPARSE COLUMN\n",
    "\n",
    "from scipy.sparse import csr_matrix\n",
    "import numpy as np\n",
    "\n",
    "a = np.array ([ 0,0,0,0,0,1,1,0,2 ])\n",
    "print ( csr_matrix(a) )"
   ]
  },
  {
   "cell_type": "code",
   "execution_count": 2,
   "id": "178660ee",
   "metadata": {},
   "outputs": [
    {
     "name": "stdout",
     "output_type": "stream",
     "text": [
      "  (0, 5)\t1\n",
      "  (0, 6)\t1\n",
      "  (0, 8)\t2\n"
     ]
    }
   ],
   "source": [
    "from scipy.sparse import csc_matrix\n",
    "import numpy as np\n",
    "\n",
    "b = np.array ([ 0,0,0,0,0,1,1,0,2 ])\n",
    "print ( csc_matrix(b) )"
   ]
  },
  {
   "cell_type": "code",
   "execution_count": 3,
   "id": "ca869a6e",
   "metadata": {},
   "outputs": [
    {
     "name": "stdout",
     "output_type": "stream",
     "text": [
      "  (1, 2)\t1\n",
      "  (2, 0)\t1\n",
      "  (2, 2)\t2\n"
     ]
    }
   ],
   "source": [
    "from scipy.sparse import csr_matrix\n",
    "import numpy as np\n",
    "\n",
    "c = np.array ([ [0,0,0] , [0,0,1] , [1,0,2] ])\n",
    "print ( csr_matrix(c) )"
   ]
  },
  {
   "cell_type": "code",
   "execution_count": 4,
   "id": "6cb3b463",
   "metadata": {},
   "outputs": [
    {
     "name": "stdout",
     "output_type": "stream",
     "text": [
      "[1 1 2]\n"
     ]
    }
   ],
   "source": [
    "from scipy.sparse import csr_matrix\n",
    "import numpy as np\n",
    "\n",
    "c = np.array ([ [0,0,0] , [0,0,1] , [1,0,2] ])\n",
    "print ( csr_matrix(c).data )"
   ]
  },
  {
   "cell_type": "code",
   "execution_count": 5,
   "id": "210edcde",
   "metadata": {},
   "outputs": [
    {
     "name": "stdout",
     "output_type": "stream",
     "text": [
      "3\n"
     ]
    }
   ],
   "source": [
    "# count_nonzeres() METHOD : FOR COUNTING NON ZEROS ELEMENTS IN THE MATRIX.\n",
    "\n",
    "from scipy.sparse import csr_matrix\n",
    "import numpy as np\n",
    "\n",
    "c = np.array ([ [0,0,0] , [0,0,1] , [1,0,2] ])\n",
    "print ( csr_matrix(c).count_nonzero() )"
   ]
  },
  {
   "cell_type": "code",
   "execution_count": 6,
   "id": "d2e94cd3",
   "metadata": {},
   "outputs": [
    {
     "name": "stdout",
     "output_type": "stream",
     "text": [
      "  (1, 2)\t1\n",
      "  (2, 0)\t1\n",
      "  (2, 2)\t2\n"
     ]
    }
   ],
   "source": [
    "# eliminate_zeros() METHOD : FOR REMOVING THE ZERO ELEMENTS FROM THE MATRIX.\n",
    "from scipy.sparse import csr_matrix\n",
    "import numpy as np\n",
    "c = np.array ([ [0,0,0] , [0,0,1] , [1,0,2] ])\n",
    "d = csr_matrix(c)\n",
    "d.eliminate_zeros()\n",
    "print(d)"
   ]
  },
  {
   "cell_type": "code",
   "execution_count": 7,
   "id": "477354c7",
   "metadata": {},
   "outputs": [
    {
     "name": "stdout",
     "output_type": "stream",
     "text": [
      "  (1, 2)\t1\n",
      "  (2, 0)\t1\n",
      "  (2, 2)\t2\n"
     ]
    }
   ],
   "source": [
    "# sum_duplicates() METHOD : FOR ELIMINATING DUPLICATE ENTRIES FROM THE MATRIX.\n",
    "\n",
    "from scipy.sparse import csr_matrix\n",
    "import numpy as np\n",
    "\n",
    "c = np.array ([ [0,0,0] , [0,0,1] , [1,0,2] ])\n",
    "e = csr_matrix(c)\n",
    "e.sum_duplicates()\n",
    "print(e)"
   ]
  },
  {
   "cell_type": "code",
   "execution_count": 8,
   "id": "d54dafa9",
   "metadata": {},
   "outputs": [
    {
     "name": "stdout",
     "output_type": "stream",
     "text": [
      "  (2, 0)\t1\n",
      "  (1, 2)\t1\n",
      "  (2, 2)\t2\n"
     ]
    }
   ],
   "source": [
    "# tocsc() METHOD : IT IS USED TO CONVERT FROM CSR TO CSC MATRIX.\n",
    "\n",
    "from scipy.sparse import csr_matrix\n",
    "import numpy as np\n",
    "\n",
    "c = np.array ([ [0,0,0] , [0,0,1] , [1,0,2] ])\n",
    "f= csr_matrix(c).tocsc()\n",
    "print(f)"
   ]
  },
  {
   "cell_type": "code",
   "execution_count": null,
   "id": "43d17a14",
   "metadata": {},
   "outputs": [],
   "source": []
  }
 ],
 "metadata": {
  "kernelspec": {
   "display_name": "Python 3 (ipykernel)",
   "language": "python",
   "name": "python3"
  },
  "language_info": {
   "codemirror_mode": {
    "name": "ipython",
    "version": 3
   },
   "file_extension": ".py",
   "mimetype": "text/x-python",
   "name": "python",
   "nbconvert_exporter": "python",
   "pygments_lexer": "ipython3",
   "version": "3.10.9"
  }
 },
 "nbformat": 4,
 "nbformat_minor": 5
}
