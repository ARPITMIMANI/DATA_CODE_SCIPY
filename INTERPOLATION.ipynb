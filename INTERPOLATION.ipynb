{
 "cells": [
  {
   "cell_type": "code",
   "execution_count": 1,
   "id": "93550811",
   "metadata": {},
   "outputs": [
    {
     "name": "stdout",
     "output_type": "stream",
     "text": [
      "[5.2 5.4 5.6 5.8 6.  6.2 6.4 6.6 6.8]\n"
     ]
    }
   ],
   "source": [
    "# INTERPOLATION : IT IS A METHOD FOR GENERATING POINS BETWEEN GIVEN POINTS .\n",
    "# IMPUTATION : IT IS THE METHOD FOR FILLING THE VALUES .\n",
    "# INTERPOLATION CAN BE IMPLEMENTED IN SCIPY USING scipy.interpolate .\n",
    "\n",
    "# ONE DIMESNIONAL INTERPLOATION IS DONE USING interp1d() .\n",
    "# EXAMPLE : HERE FOR GIVEN xs AND  ys INTERPOLATE VALUES FOR 2.1 , 2.2 , 2.3 , ....... , 2.9 .\n",
    "\n",
    "from scipy.interpolate import interp1d\n",
    "import numpy as np\n",
    "\n",
    "xs = np.arange(10)\n",
    "ys = 2*xs + 1 \n",
    "a = interp1d ( xs , ys )\n",
    "b = a ( np.arange (2.1,3.0,0.1) )\n",
    "print(b)"
   ]
  },
  {
   "cell_type": "code",
   "execution_count": 2,
   "id": "a90cea63",
   "metadata": {},
   "outputs": [
    {
     "name": "stdout",
     "output_type": "stream",
     "text": [
      "[5.62826474 6.03987348 6.47131994 6.92265019 7.3939103  7.88514634\n",
      " 8.39640439 8.92773053 9.47917082]\n"
     ]
    }
   ],
   "source": [
    "# SPLINE INTERPLOATION IS DONE USING UnivariateSpline() .\n",
    "# EXAMPLE : HERE WE WILL FIND THE UNIVARIATE SPLINE INTERPOLATION FOR 2.1 , 2.2 , 2.3 , ....... , 2.9 .\n",
    "\n",
    "from scipy.interpolate import UnivariateSpline\n",
    "import numpy as np\n",
    "\n",
    "xs = np.arange(10)\n",
    "ys = xs**2 + np.sin(xs) + 1\n",
    "c =  UnivariateSpline ( xs ,ys )\n",
    "d = c ( np.arange ( 2.1 , 3.0 , 0.1 ) )\n",
    "print(d)"
   ]
  },
  {
   "cell_type": "code",
   "execution_count": 3,
   "id": "ee5f76ae",
   "metadata": {},
   "outputs": [
    {
     "name": "stdout",
     "output_type": "stream",
     "text": [
      "[6.25748981 6.62190817 7.00310702 7.40121814 7.8161443  8.24773402\n",
      " 8.69590519 9.16070828 9.64233874]\n"
     ]
    }
   ],
   "source": [
    "# INTERPLOATION FOR RADIAL BASIS FUNCTION IS DONE USING Rbf() .\n",
    "# EXAMPLE : HERE WE WILL FIND THE RADIAL BASIS FUNCTION FOR 2.1 , 2.2 , 2.3 , ....... , 2.9 .\n",
    "\n",
    "from scipy.interpolate import Rbf\n",
    "import numpy as np\n",
    "\n",
    "xs = np.arange(10)\n",
    "ys = xs**2 + np.sin(xs) + 1\n",
    "e = Rbf ( xs , ys )\n",
    "f = e ( np.arange ( 2.1 , 3.0 , 0.1 ) )\n",
    "print(f)"
   ]
  },
  {
   "cell_type": "code",
   "execution_count": null,
   "id": "d74486ff",
   "metadata": {},
   "outputs": [],
   "source": []
  }
 ],
 "metadata": {
  "kernelspec": {
   "display_name": "Python 3 (ipykernel)",
   "language": "python",
   "name": "python3"
  },
  "language_info": {
   "codemirror_mode": {
    "name": "ipython",
    "version": 3
   },
   "file_extension": ".py",
   "mimetype": "text/x-python",
   "name": "python",
   "nbconvert_exporter": "python",
   "pygments_lexer": "ipython3",
   "version": "3.10.9"
  }
 },
 "nbformat": 4,
 "nbformat_minor": 5
}
