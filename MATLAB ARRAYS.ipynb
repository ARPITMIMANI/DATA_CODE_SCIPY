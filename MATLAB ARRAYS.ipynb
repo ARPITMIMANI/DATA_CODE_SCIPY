{
 "cells": [
  {
   "cell_type": "code",
   "execution_count": 23,
   "id": "3d9833f0",
   "metadata": {},
   "outputs": [],
   "source": [
    "# SCIPY MATLAB ARRAY : EXPORTING THE DATA IN MATLAB FPRMAT .\n",
    "# FOR CONVERTING OR EXPORTING DATA WE USE savemat() .\n",
    "# savemat() HAVE 3 ARGUMENTS OR PARAMETES FILENAME , MDICT AND do_compression .\n",
    "# do_compression TAKES DATA IN BOOLEAN FORMAT ONLY .\n",
    "\n",
    "# EXAMPLE : HERE WE WILL EXPORT THE BELOW ARRAY AS VARIABLE NAME \"abc\" TO mat FILE .\n",
    "\n",
    "from scipy import io\n",
    "import numpy as np\n",
    "\n",
    "export_mat_file = np.arange(10)\n",
    "io.savemat ( \"export_mat_file.mat\" , { \"abc\" : export_mat_file } )"
   ]
  },
  {
   "cell_type": "code",
   "execution_count": 24,
   "id": "5ea3bee1",
   "metadata": {},
   "outputs": [],
   "source": [
    "# HERE WE WILL IMPORT THE EXISTING FILE NAME \"export_data.mat\" .\n",
    "# FOR IMPORTING DATA WE USE loadmat() .\n",
    "# loadmat() HAS ONLY ONE ARGUMENT THAT IS FILENAME .\n",
    "\n",
    "from scipy import io\n",
    "import numpy as np\n",
    "\n",
    "import_mat_file = np.array([0,1,2,3,4,5,6,7,8,9])"
   ]
  },
  {
   "cell_type": "code",
   "execution_count": 25,
   "id": "1c0ffee4",
   "metadata": {},
   "outputs": [],
   "source": [
    "# EXPORT \n",
    "io.savemat ( \"import_mat_file.mat\" , { \"def\" : import_mat_file } )"
   ]
  },
  {
   "cell_type": "code",
   "execution_count": 26,
   "id": "f026e2ce",
   "metadata": {},
   "outputs": [
    {
     "name": "stdout",
     "output_type": "stream",
     "text": [
      "[[0 1 2 3 4 5 6 7 8 9]]\n"
     ]
    }
   ],
   "source": [
    "# IMPORT\n",
    "xyz = io.loadmat ( \"import_mat_file.mat\" )\n",
    "print ( xyz[\"def\"] )"
   ]
  },
  {
   "cell_type": "code",
   "execution_count": 27,
   "id": "7e01d7f6",
   "metadata": {},
   "outputs": [
    {
     "name": "stdout",
     "output_type": "stream",
     "text": [
      "[0 1 2 3 4 5 6 7 8 9]\n"
     ]
    }
   ],
   "source": [
    "# squeeze_me CONVERTS THE GIVEN ARRAY TO ONE DIMENSIONAL .\n",
    "xyz = io.loadmat ( \"import_mat_file.mat\" , squeeze_me = True )\n",
    "print ( xyz[\"def\"] )"
   ]
  },
  {
   "cell_type": "code",
   "execution_count": null,
   "id": "e6a9b472",
   "metadata": {},
   "outputs": [],
   "source": []
  }
 ],
 "metadata": {
  "kernelspec": {
   "display_name": "Python 3 (ipykernel)",
   "language": "python",
   "name": "python3"
  },
  "language_info": {
   "codemirror_mode": {
    "name": "ipython",
    "version": 3
   },
   "file_extension": ".py",
   "mimetype": "text/x-python",
   "name": "python",
   "nbconvert_exporter": "python",
   "pygments_lexer": "ipython3",
   "version": "3.10.9"
  }
 },
 "nbformat": 4,
 "nbformat_minor": 5
}
