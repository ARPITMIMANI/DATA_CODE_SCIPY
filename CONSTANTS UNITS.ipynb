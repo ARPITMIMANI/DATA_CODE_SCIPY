{
 "cells": [
  {
   "cell_type": "code",
   "execution_count": 1,
   "id": "e0dcbe51",
   "metadata": {},
   "outputs": [
    {
     "data": {
      "text/plain": [
       "3.141592653589793"
      ]
     },
     "execution_count": 1,
     "metadata": {},
     "output_type": "execute_result"
    }
   ],
   "source": [
    "# CONSTANTS IN SCIPY : SCIPY IS MORE FOCUSED ON SCIENTIFIC IMPLEMENTATIONS.\n",
    "# SCIPY PROVIDES MANY BUILT IN SCIENTIFIC CONSTANTS WHICH IS HELP FULL IN DATA SCIENCE.\n",
    "# CONSTANTS UNIT : ALL LIST OF UNIT UNDER THE constants CAN BE SEEN WITH dir().\n",
    "\n",
    "''' UNIT CATEGORIES : METRIC , BINARY , MASS , ANGLE , TIME , LENGTH , PRESSURE , VOLUME , \n",
    "SPEED , TEMPERATURE , ENERGY , POWER , FORCE ETC.. '''\n",
    "\n",
    "from scipy import constants\n",
    "constants.pi"
   ]
  },
  {
   "cell_type": "code",
   "execution_count": 2,
   "id": "1b46720e",
   "metadata": {},
   "outputs": [
    {
     "data": {
      "text/plain": [
       "['Avogadro',\n",
       " 'Boltzmann',\n",
       " 'Btu',\n",
       " 'Btu_IT',\n",
       " 'Btu_th',\n",
       " 'ConstantWarning',\n",
       " 'G',\n",
       " 'Julian_year',\n",
       " 'N_A',\n",
       " 'Planck',\n",
       " 'R',\n",
       " 'Rydberg',\n",
       " 'Stefan_Boltzmann',\n",
       " 'Wien',\n",
       " '__all__',\n",
       " '__builtins__',\n",
       " '__cached__',\n",
       " '__doc__',\n",
       " '__file__',\n",
       " '__loader__',\n",
       " '__name__',\n",
       " '__package__',\n",
       " '__path__',\n",
       " '__spec__',\n",
       " '_codata',\n",
       " '_constants',\n",
       " '_obsolete_constants',\n",
       " 'acre',\n",
       " 'alpha',\n",
       " 'angstrom',\n",
       " 'arcmin',\n",
       " 'arcminute',\n",
       " 'arcsec',\n",
       " 'arcsecond',\n",
       " 'astronomical_unit',\n",
       " 'atm',\n",
       " 'atmosphere',\n",
       " 'atomic_mass',\n",
       " 'atto',\n",
       " 'au',\n",
       " 'bar',\n",
       " 'barrel',\n",
       " 'bbl',\n",
       " 'blob',\n",
       " 'c',\n",
       " 'calorie',\n",
       " 'calorie_IT',\n",
       " 'calorie_th',\n",
       " 'carat',\n",
       " 'centi',\n",
       " 'codata',\n",
       " 'constants',\n",
       " 'convert_temperature',\n",
       " 'day',\n",
       " 'deci',\n",
       " 'degree',\n",
       " 'degree_Fahrenheit',\n",
       " 'deka',\n",
       " 'dyn',\n",
       " 'dyne',\n",
       " 'e',\n",
       " 'eV',\n",
       " 'electron_mass',\n",
       " 'electron_volt',\n",
       " 'elementary_charge',\n",
       " 'epsilon_0',\n",
       " 'erg',\n",
       " 'exa',\n",
       " 'exbi',\n",
       " 'femto',\n",
       " 'fermi',\n",
       " 'find',\n",
       " 'fine_structure',\n",
       " 'fluid_ounce',\n",
       " 'fluid_ounce_US',\n",
       " 'fluid_ounce_imp',\n",
       " 'foot',\n",
       " 'g',\n",
       " 'gallon',\n",
       " 'gallon_US',\n",
       " 'gallon_imp',\n",
       " 'gas_constant',\n",
       " 'gibi',\n",
       " 'giga',\n",
       " 'golden',\n",
       " 'golden_ratio',\n",
       " 'grain',\n",
       " 'gram',\n",
       " 'gravitational_constant',\n",
       " 'h',\n",
       " 'hbar',\n",
       " 'hectare',\n",
       " 'hecto',\n",
       " 'horsepower',\n",
       " 'hour',\n",
       " 'hp',\n",
       " 'inch',\n",
       " 'k',\n",
       " 'kgf',\n",
       " 'kibi',\n",
       " 'kilo',\n",
       " 'kilogram_force',\n",
       " 'kmh',\n",
       " 'knot',\n",
       " 'lambda2nu',\n",
       " 'lb',\n",
       " 'lbf',\n",
       " 'light_year',\n",
       " 'liter',\n",
       " 'litre',\n",
       " 'long_ton',\n",
       " 'm_e',\n",
       " 'm_n',\n",
       " 'm_p',\n",
       " 'm_u',\n",
       " 'mach',\n",
       " 'mebi',\n",
       " 'mega',\n",
       " 'metric_ton',\n",
       " 'micro',\n",
       " 'micron',\n",
       " 'mil',\n",
       " 'mile',\n",
       " 'milli',\n",
       " 'minute',\n",
       " 'mmHg',\n",
       " 'mph',\n",
       " 'mu_0',\n",
       " 'nano',\n",
       " 'nautical_mile',\n",
       " 'neutron_mass',\n",
       " 'nu2lambda',\n",
       " 'ounce',\n",
       " 'oz',\n",
       " 'parsec',\n",
       " 'pebi',\n",
       " 'peta',\n",
       " 'physical_constants',\n",
       " 'pi',\n",
       " 'pico',\n",
       " 'point',\n",
       " 'pound',\n",
       " 'pound_force',\n",
       " 'precision',\n",
       " 'proton_mass',\n",
       " 'psi',\n",
       " 'pt',\n",
       " 'short_ton',\n",
       " 'sigma',\n",
       " 'slinch',\n",
       " 'slug',\n",
       " 'speed_of_light',\n",
       " 'speed_of_sound',\n",
       " 'stone',\n",
       " 'survey_foot',\n",
       " 'survey_mile',\n",
       " 'tebi',\n",
       " 'tera',\n",
       " 'test',\n",
       " 'ton_TNT',\n",
       " 'torr',\n",
       " 'troy_ounce',\n",
       " 'troy_pound',\n",
       " 'u',\n",
       " 'unit',\n",
       " 'value',\n",
       " 'week',\n",
       " 'yard',\n",
       " 'year',\n",
       " 'yobi',\n",
       " 'yocto',\n",
       " 'yotta',\n",
       " 'zebi',\n",
       " 'zepto',\n",
       " 'zero_Celsius',\n",
       " 'zetta']"
      ]
     },
     "execution_count": 2,
     "metadata": {},
     "output_type": "execute_result"
    }
   ],
   "source": [
    "dir(constants)"
   ]
  },
  {
   "cell_type": "code",
   "execution_count": 3,
   "id": "637f27c6",
   "metadata": {},
   "outputs": [
    {
     "data": {
      "text/plain": [
       "1e+24"
      ]
     },
     "execution_count": 3,
     "metadata": {},
     "output_type": "execute_result"
    }
   ],
   "source": [
    "constants.yotta"
   ]
  },
  {
   "cell_type": "code",
   "execution_count": 4,
   "id": "aaebbb8f",
   "metadata": {},
   "outputs": [
    {
     "data": {
      "text/plain": [
       "1e+21"
      ]
     },
     "execution_count": 4,
     "metadata": {},
     "output_type": "execute_result"
    }
   ],
   "source": [
    "constants.zetta"
   ]
  },
  {
   "cell_type": "code",
   "execution_count": 5,
   "id": "aa4907ce",
   "metadata": {},
   "outputs": [
    {
     "data": {
      "text/plain": [
       "1e+18"
      ]
     },
     "execution_count": 5,
     "metadata": {},
     "output_type": "execute_result"
    }
   ],
   "source": [
    "constants.exa"
   ]
  },
  {
   "cell_type": "code",
   "execution_count": 6,
   "id": "514ac8a3",
   "metadata": {},
   "outputs": [
    {
     "data": {
      "text/plain": [
       "1000000000000000.0"
      ]
     },
     "execution_count": 6,
     "metadata": {},
     "output_type": "execute_result"
    }
   ],
   "source": [
    "constants.peta"
   ]
  },
  {
   "cell_type": "code",
   "execution_count": 7,
   "id": "aa3a4029",
   "metadata": {},
   "outputs": [
    {
     "data": {
      "text/plain": [
       "1000000000000.0"
      ]
     },
     "execution_count": 7,
     "metadata": {},
     "output_type": "execute_result"
    }
   ],
   "source": [
    "constants.tera"
   ]
  },
  {
   "cell_type": "code",
   "execution_count": 8,
   "id": "97ba68b5",
   "metadata": {},
   "outputs": [
    {
     "data": {
      "text/plain": [
       "1000000000.0"
      ]
     },
     "execution_count": 8,
     "metadata": {},
     "output_type": "execute_result"
    }
   ],
   "source": [
    "constants.giga"
   ]
  },
  {
   "cell_type": "code",
   "execution_count": 9,
   "id": "1dba2380",
   "metadata": {},
   "outputs": [
    {
     "data": {
      "text/plain": [
       "1000000.0"
      ]
     },
     "execution_count": 9,
     "metadata": {},
     "output_type": "execute_result"
    }
   ],
   "source": [
    "constants.mega"
   ]
  },
  {
   "cell_type": "code",
   "execution_count": 10,
   "id": "852eaec4",
   "metadata": {},
   "outputs": [
    {
     "data": {
      "text/plain": [
       "1000.0"
      ]
     },
     "execution_count": 10,
     "metadata": {},
     "output_type": "execute_result"
    }
   ],
   "source": [
    "constants.kilo"
   ]
  },
  {
   "cell_type": "code",
   "execution_count": 11,
   "id": "bb4f1fd6",
   "metadata": {},
   "outputs": [
    {
     "data": {
      "text/plain": [
       "100.0"
      ]
     },
     "execution_count": 11,
     "metadata": {},
     "output_type": "execute_result"
    }
   ],
   "source": [
    "constants.hecto"
   ]
  },
  {
   "cell_type": "code",
   "execution_count": 12,
   "id": "159adada",
   "metadata": {},
   "outputs": [
    {
     "data": {
      "text/plain": [
       "10.0"
      ]
     },
     "execution_count": 12,
     "metadata": {},
     "output_type": "execute_result"
    }
   ],
   "source": [
    "constants.deka"
   ]
  },
  {
   "cell_type": "code",
   "execution_count": 13,
   "id": "68015515",
   "metadata": {},
   "outputs": [
    {
     "data": {
      "text/plain": [
       "0.1"
      ]
     },
     "execution_count": 13,
     "metadata": {},
     "output_type": "execute_result"
    }
   ],
   "source": [
    "constants.deci"
   ]
  },
  {
   "cell_type": "code",
   "execution_count": 14,
   "id": "60ac8f76",
   "metadata": {},
   "outputs": [
    {
     "data": {
      "text/plain": [
       "0.01"
      ]
     },
     "execution_count": 14,
     "metadata": {},
     "output_type": "execute_result"
    }
   ],
   "source": [
    "constants.centi"
   ]
  },
  {
   "cell_type": "code",
   "execution_count": 15,
   "id": "f3070619",
   "metadata": {},
   "outputs": [
    {
     "data": {
      "text/plain": [
       "0.001"
      ]
     },
     "execution_count": 15,
     "metadata": {},
     "output_type": "execute_result"
    }
   ],
   "source": [
    "constants.milli"
   ]
  },
  {
   "cell_type": "code",
   "execution_count": 16,
   "id": "8d0813a2",
   "metadata": {},
   "outputs": [
    {
     "data": {
      "text/plain": [
       "1e-06"
      ]
     },
     "execution_count": 16,
     "metadata": {},
     "output_type": "execute_result"
    }
   ],
   "source": [
    "constants.micro"
   ]
  },
  {
   "cell_type": "code",
   "execution_count": 17,
   "id": "1d432425",
   "metadata": {},
   "outputs": [
    {
     "data": {
      "text/plain": [
       "1e-09"
      ]
     },
     "execution_count": 17,
     "metadata": {},
     "output_type": "execute_result"
    }
   ],
   "source": [
    "constants.nano"
   ]
  },
  {
   "cell_type": "code",
   "execution_count": 18,
   "id": "b0971fc1",
   "metadata": {},
   "outputs": [
    {
     "data": {
      "text/plain": [
       "1e-12"
      ]
     },
     "execution_count": 18,
     "metadata": {},
     "output_type": "execute_result"
    }
   ],
   "source": [
    "constants.pico"
   ]
  },
  {
   "cell_type": "code",
   "execution_count": 19,
   "id": "09269eb0",
   "metadata": {},
   "outputs": [
    {
     "data": {
      "text/plain": [
       "1e-15"
      ]
     },
     "execution_count": 19,
     "metadata": {},
     "output_type": "execute_result"
    }
   ],
   "source": [
    "constants.femto"
   ]
  },
  {
   "cell_type": "code",
   "execution_count": 20,
   "id": "7409733e",
   "metadata": {},
   "outputs": [
    {
     "data": {
      "text/plain": [
       "1e-18"
      ]
     },
     "execution_count": 20,
     "metadata": {},
     "output_type": "execute_result"
    }
   ],
   "source": [
    "constants.atto"
   ]
  },
  {
   "cell_type": "code",
   "execution_count": 21,
   "id": "e87b9c32",
   "metadata": {},
   "outputs": [
    {
     "data": {
      "text/plain": [
       "1e-21"
      ]
     },
     "execution_count": 21,
     "metadata": {},
     "output_type": "execute_result"
    }
   ],
   "source": [
    "constants.zepto"
   ]
  },
  {
   "cell_type": "code",
   "execution_count": 22,
   "id": "5012eb56",
   "metadata": {},
   "outputs": [
    {
     "data": {
      "text/plain": [
       "1024"
      ]
     },
     "execution_count": 22,
     "metadata": {},
     "output_type": "execute_result"
    }
   ],
   "source": [
    "constants.kibi"
   ]
  },
  {
   "cell_type": "code",
   "execution_count": 23,
   "id": "0556fb54",
   "metadata": {},
   "outputs": [
    {
     "data": {
      "text/plain": [
       "1048576"
      ]
     },
     "execution_count": 23,
     "metadata": {},
     "output_type": "execute_result"
    }
   ],
   "source": [
    "constants.mebi"
   ]
  },
  {
   "cell_type": "code",
   "execution_count": 24,
   "id": "7f826e9c",
   "metadata": {},
   "outputs": [
    {
     "data": {
      "text/plain": [
       "1073741824"
      ]
     },
     "execution_count": 24,
     "metadata": {},
     "output_type": "execute_result"
    }
   ],
   "source": [
    "constants.gibi"
   ]
  },
  {
   "cell_type": "code",
   "execution_count": 25,
   "id": "8c90ccab",
   "metadata": {},
   "outputs": [
    {
     "data": {
      "text/plain": [
       "1099511627776"
      ]
     },
     "execution_count": 25,
     "metadata": {},
     "output_type": "execute_result"
    }
   ],
   "source": [
    "constants.tebi"
   ]
  },
  {
   "cell_type": "code",
   "execution_count": 26,
   "id": "59a14f57",
   "metadata": {},
   "outputs": [
    {
     "data": {
      "text/plain": [
       "1125899906842624"
      ]
     },
     "execution_count": 26,
     "metadata": {},
     "output_type": "execute_result"
    }
   ],
   "source": [
    "constants.pebi"
   ]
  },
  {
   "cell_type": "code",
   "execution_count": 27,
   "id": "02ad2991",
   "metadata": {},
   "outputs": [
    {
     "data": {
      "text/plain": [
       "1152921504606846976"
      ]
     },
     "execution_count": 27,
     "metadata": {},
     "output_type": "execute_result"
    }
   ],
   "source": [
    "constants.exbi"
   ]
  },
  {
   "cell_type": "code",
   "execution_count": 28,
   "id": "d6aea32c",
   "metadata": {},
   "outputs": [
    {
     "data": {
      "text/plain": [
       "1180591620717411303424"
      ]
     },
     "execution_count": 28,
     "metadata": {},
     "output_type": "execute_result"
    }
   ],
   "source": [
    "constants.zebi"
   ]
  },
  {
   "cell_type": "code",
   "execution_count": 29,
   "id": "ff181b55",
   "metadata": {},
   "outputs": [
    {
     "data": {
      "text/plain": [
       "1208925819614629174706176"
      ]
     },
     "execution_count": 29,
     "metadata": {},
     "output_type": "execute_result"
    }
   ],
   "source": [
    "constants.yobi"
   ]
  },
  {
   "cell_type": "code",
   "execution_count": 30,
   "id": "a038d15f",
   "metadata": {},
   "outputs": [
    {
     "data": {
      "text/plain": [
       "0.001"
      ]
     },
     "execution_count": 30,
     "metadata": {},
     "output_type": "execute_result"
    }
   ],
   "source": [
    "constants.gram"
   ]
  },
  {
   "cell_type": "code",
   "execution_count": 31,
   "id": "fc60c628",
   "metadata": {},
   "outputs": [
    {
     "data": {
      "text/plain": [
       "1000.0"
      ]
     },
     "execution_count": 31,
     "metadata": {},
     "output_type": "execute_result"
    }
   ],
   "source": [
    "constants.metric_ton"
   ]
  },
  {
   "cell_type": "code",
   "execution_count": 32,
   "id": "2e9c6d87",
   "metadata": {},
   "outputs": [
    {
     "data": {
      "text/plain": [
       "6.479891e-05"
      ]
     },
     "execution_count": 32,
     "metadata": {},
     "output_type": "execute_result"
    }
   ],
   "source": [
    "constants.grain"
   ]
  },
  {
   "cell_type": "code",
   "execution_count": 33,
   "id": "5f878aef",
   "metadata": {},
   "outputs": [
    {
     "data": {
      "text/plain": [
       "0.45359236999999997"
      ]
     },
     "execution_count": 33,
     "metadata": {},
     "output_type": "execute_result"
    }
   ],
   "source": [
    "constants.lb"
   ]
  },
  {
   "cell_type": "code",
   "execution_count": 34,
   "id": "9ad22dce",
   "metadata": {},
   "outputs": [
    {
     "data": {
      "text/plain": [
       "0.45359236999999997"
      ]
     },
     "execution_count": 34,
     "metadata": {},
     "output_type": "execute_result"
    }
   ],
   "source": [
    "constants.pound"
   ]
  },
  {
   "cell_type": "code",
   "execution_count": 35,
   "id": "4bb2932b",
   "metadata": {},
   "outputs": [
    {
     "data": {
      "text/plain": [
       "0.028349523124999998"
      ]
     },
     "execution_count": 35,
     "metadata": {},
     "output_type": "execute_result"
    }
   ],
   "source": [
    "constants.oz"
   ]
  },
  {
   "cell_type": "code",
   "execution_count": 36,
   "id": "b925e2d5",
   "metadata": {},
   "outputs": [
    {
     "data": {
      "text/plain": [
       "0.028349523124999998"
      ]
     },
     "execution_count": 36,
     "metadata": {},
     "output_type": "execute_result"
    }
   ],
   "source": [
    "constants.ounce"
   ]
  },
  {
   "cell_type": "code",
   "execution_count": 37,
   "id": "3ce49dd6",
   "metadata": {},
   "outputs": [
    {
     "data": {
      "text/plain": [
       "6.3502931799999995"
      ]
     },
     "execution_count": 37,
     "metadata": {},
     "output_type": "execute_result"
    }
   ],
   "source": [
    "constants.stone"
   ]
  },
  {
   "cell_type": "code",
   "execution_count": 38,
   "id": "35f09407",
   "metadata": {},
   "outputs": [
    {
     "data": {
      "text/plain": [
       "1016.0469088"
      ]
     },
     "execution_count": 38,
     "metadata": {},
     "output_type": "execute_result"
    }
   ],
   "source": [
    "constants.long_ton"
   ]
  },
  {
   "cell_type": "code",
   "execution_count": 39,
   "id": "2f077e4c",
   "metadata": {},
   "outputs": [
    {
     "data": {
      "text/plain": [
       "907.1847399999999"
      ]
     },
     "execution_count": 39,
     "metadata": {},
     "output_type": "execute_result"
    }
   ],
   "source": [
    "constants.short_ton"
   ]
  },
  {
   "cell_type": "code",
   "execution_count": 40,
   "id": "400e84ca",
   "metadata": {},
   "outputs": [
    {
     "data": {
      "text/plain": [
       "0.031103476799999998"
      ]
     },
     "execution_count": 40,
     "metadata": {},
     "output_type": "execute_result"
    }
   ],
   "source": [
    "constants.troy_ounce"
   ]
  },
  {
   "cell_type": "code",
   "execution_count": 41,
   "id": "6154190c",
   "metadata": {},
   "outputs": [
    {
     "data": {
      "text/plain": [
       "0.37324172159999996"
      ]
     },
     "execution_count": 41,
     "metadata": {},
     "output_type": "execute_result"
    }
   ],
   "source": [
    "constants.troy_pound"
   ]
  },
  {
   "cell_type": "code",
   "execution_count": 42,
   "id": "a45805ee",
   "metadata": {},
   "outputs": [
    {
     "data": {
      "text/plain": [
       "0.0002"
      ]
     },
     "execution_count": 42,
     "metadata": {},
     "output_type": "execute_result"
    }
   ],
   "source": [
    "constants.carat"
   ]
  },
  {
   "cell_type": "code",
   "execution_count": 43,
   "id": "e14e370c",
   "metadata": {},
   "outputs": [
    {
     "data": {
      "text/plain": [
       "1.6605390666e-27"
      ]
     },
     "execution_count": 43,
     "metadata": {},
     "output_type": "execute_result"
    }
   ],
   "source": [
    "constants.atomic_mass"
   ]
  },
  {
   "cell_type": "code",
   "execution_count": 44,
   "id": "d198e63a",
   "metadata": {},
   "outputs": [
    {
     "data": {
      "text/plain": [
       "1.6605390666e-27"
      ]
     },
     "execution_count": 44,
     "metadata": {},
     "output_type": "execute_result"
    }
   ],
   "source": [
    "constants.m_u"
   ]
  },
  {
   "cell_type": "code",
   "execution_count": 45,
   "id": "62b77cb1",
   "metadata": {},
   "outputs": [
    {
     "data": {
      "text/plain": [
       "1.6605390666e-27"
      ]
     },
     "execution_count": 45,
     "metadata": {},
     "output_type": "execute_result"
    }
   ],
   "source": [
    "constants.u"
   ]
  },
  {
   "cell_type": "code",
   "execution_count": 46,
   "id": "f744a0c3",
   "metadata": {},
   "outputs": [
    {
     "data": {
      "text/plain": [
       "0.017453292519943295"
      ]
     },
     "execution_count": 46,
     "metadata": {},
     "output_type": "execute_result"
    }
   ],
   "source": [
    "constants.degree"
   ]
  },
  {
   "cell_type": "code",
   "execution_count": 47,
   "id": "f6e50a4f",
   "metadata": {},
   "outputs": [
    {
     "data": {
      "text/plain": [
       "0.0002908882086657216"
      ]
     },
     "execution_count": 47,
     "metadata": {},
     "output_type": "execute_result"
    }
   ],
   "source": [
    "constants.arcmin"
   ]
  },
  {
   "cell_type": "code",
   "execution_count": 48,
   "id": "4ceb01a0",
   "metadata": {},
   "outputs": [
    {
     "data": {
      "text/plain": [
       "0.0002908882086657216"
      ]
     },
     "execution_count": 48,
     "metadata": {},
     "output_type": "execute_result"
    }
   ],
   "source": [
    "constants.arcminute"
   ]
  },
  {
   "cell_type": "code",
   "execution_count": 49,
   "id": "b6cd75bd",
   "metadata": {},
   "outputs": [
    {
     "data": {
      "text/plain": [
       "4.84813681109536e-06"
      ]
     },
     "execution_count": 49,
     "metadata": {},
     "output_type": "execute_result"
    }
   ],
   "source": [
    "constants.arcsec"
   ]
  },
  {
   "cell_type": "code",
   "execution_count": 50,
   "id": "0f8b32fe",
   "metadata": {},
   "outputs": [
    {
     "data": {
      "text/plain": [
       "4.84813681109536e-06"
      ]
     },
     "execution_count": 50,
     "metadata": {},
     "output_type": "execute_result"
    }
   ],
   "source": [
    "constants.arcsecond"
   ]
  },
  {
   "cell_type": "code",
   "execution_count": 51,
   "id": "cf6081a2",
   "metadata": {},
   "outputs": [
    {
     "data": {
      "text/plain": [
       "60.0"
      ]
     },
     "execution_count": 51,
     "metadata": {},
     "output_type": "execute_result"
    }
   ],
   "source": [
    "constants.minute"
   ]
  },
  {
   "cell_type": "code",
   "execution_count": 52,
   "id": "8eb7e888",
   "metadata": {},
   "outputs": [
    {
     "data": {
      "text/plain": [
       "3600.0"
      ]
     },
     "execution_count": 52,
     "metadata": {},
     "output_type": "execute_result"
    }
   ],
   "source": [
    "constants.hour"
   ]
  },
  {
   "cell_type": "code",
   "execution_count": 53,
   "id": "a42a1429",
   "metadata": {},
   "outputs": [
    {
     "data": {
      "text/plain": [
       "86400.0"
      ]
     },
     "execution_count": 53,
     "metadata": {},
     "output_type": "execute_result"
    }
   ],
   "source": [
    "constants.day"
   ]
  },
  {
   "cell_type": "code",
   "execution_count": 54,
   "id": "e1015f2f",
   "metadata": {},
   "outputs": [
    {
     "data": {
      "text/plain": [
       "604800.0"
      ]
     },
     "execution_count": 54,
     "metadata": {},
     "output_type": "execute_result"
    }
   ],
   "source": [
    "constants.week"
   ]
  },
  {
   "cell_type": "code",
   "execution_count": 55,
   "id": "8456b9ed",
   "metadata": {},
   "outputs": [
    {
     "data": {
      "text/plain": [
       "31536000.0"
      ]
     },
     "execution_count": 55,
     "metadata": {},
     "output_type": "execute_result"
    }
   ],
   "source": [
    "constants.year"
   ]
  },
  {
   "cell_type": "code",
   "execution_count": 56,
   "id": "f58d71bc",
   "metadata": {},
   "outputs": [
    {
     "data": {
      "text/plain": [
       "31557600.0"
      ]
     },
     "execution_count": 56,
     "metadata": {},
     "output_type": "execute_result"
    }
   ],
   "source": [
    "constants.Julian_year"
   ]
  },
  {
   "cell_type": "code",
   "execution_count": 57,
   "id": "58a43ed4",
   "metadata": {},
   "outputs": [
    {
     "data": {
      "text/plain": [
       "9460730472580800.0"
      ]
     },
     "execution_count": 57,
     "metadata": {},
     "output_type": "execute_result"
    }
   ],
   "source": [
    "constants.light_year"
   ]
  },
  {
   "cell_type": "code",
   "execution_count": 58,
   "id": "7a9de05f",
   "metadata": {},
   "outputs": [
    {
     "data": {
      "text/plain": [
       "0.0254"
      ]
     },
     "execution_count": 58,
     "metadata": {},
     "output_type": "execute_result"
    }
   ],
   "source": [
    "constants.inch"
   ]
  },
  {
   "cell_type": "code",
   "execution_count": 59,
   "id": "dcd8f0bf",
   "metadata": {},
   "outputs": [
    {
     "data": {
      "text/plain": [
       "0.30479999999999996"
      ]
     },
     "execution_count": 59,
     "metadata": {},
     "output_type": "execute_result"
    }
   ],
   "source": [
    "constants.foot"
   ]
  },
  {
   "cell_type": "code",
   "execution_count": 60,
   "id": "eff207da",
   "metadata": {},
   "outputs": [
    {
     "data": {
      "text/plain": [
       "0.9143999999999999"
      ]
     },
     "execution_count": 60,
     "metadata": {},
     "output_type": "execute_result"
    }
   ],
   "source": [
    "constants.yard"
   ]
  },
  {
   "cell_type": "code",
   "execution_count": 61,
   "id": "f79baed2",
   "metadata": {},
   "outputs": [
    {
     "data": {
      "text/plain": [
       "1609.3439999999998"
      ]
     },
     "execution_count": 61,
     "metadata": {},
     "output_type": "execute_result"
    }
   ],
   "source": [
    "constants.mile"
   ]
  },
  {
   "cell_type": "code",
   "execution_count": 62,
   "id": "fb2a09ea",
   "metadata": {},
   "outputs": [
    {
     "data": {
      "text/plain": [
       "2.5399999999999997e-05"
      ]
     },
     "execution_count": 62,
     "metadata": {},
     "output_type": "execute_result"
    }
   ],
   "source": [
    "constants.mil"
   ]
  },
  {
   "cell_type": "code",
   "execution_count": 63,
   "id": "e20181a8",
   "metadata": {},
   "outputs": [
    {
     "data": {
      "text/plain": [
       "0.00035277777777777776"
      ]
     },
     "execution_count": 63,
     "metadata": {},
     "output_type": "execute_result"
    }
   ],
   "source": [
    "constants.pt"
   ]
  },
  {
   "cell_type": "code",
   "execution_count": 64,
   "id": "d4961d95",
   "metadata": {},
   "outputs": [
    {
     "data": {
      "text/plain": [
       "0.00035277777777777776"
      ]
     },
     "execution_count": 64,
     "metadata": {},
     "output_type": "execute_result"
    }
   ],
   "source": [
    "constants.point"
   ]
  },
  {
   "cell_type": "code",
   "execution_count": 65,
   "id": "e9091936",
   "metadata": {},
   "outputs": [
    {
     "data": {
      "text/plain": [
       "0.3048006096012192"
      ]
     },
     "execution_count": 65,
     "metadata": {},
     "output_type": "execute_result"
    }
   ],
   "source": [
    "constants.survey_foot"
   ]
  },
  {
   "cell_type": "code",
   "execution_count": 66,
   "id": "e39212a7",
   "metadata": {},
   "outputs": [
    {
     "data": {
      "text/plain": [
       "1609.3472186944373"
      ]
     },
     "execution_count": 66,
     "metadata": {},
     "output_type": "execute_result"
    }
   ],
   "source": [
    "constants.survey_mile"
   ]
  },
  {
   "cell_type": "code",
   "execution_count": 67,
   "id": "a9c05be8",
   "metadata": {},
   "outputs": [
    {
     "data": {
      "text/plain": [
       "1852.0"
      ]
     },
     "execution_count": 67,
     "metadata": {},
     "output_type": "execute_result"
    }
   ],
   "source": [
    "constants.nautical_mile"
   ]
  },
  {
   "cell_type": "code",
   "execution_count": 68,
   "id": "46e7c80a",
   "metadata": {},
   "outputs": [
    {
     "data": {
      "text/plain": [
       "1e-15"
      ]
     },
     "execution_count": 68,
     "metadata": {},
     "output_type": "execute_result"
    }
   ],
   "source": [
    "constants.fermi"
   ]
  },
  {
   "cell_type": "code",
   "execution_count": 69,
   "id": "7cbb8773",
   "metadata": {},
   "outputs": [
    {
     "data": {
      "text/plain": [
       "1e-10"
      ]
     },
     "execution_count": 69,
     "metadata": {},
     "output_type": "execute_result"
    }
   ],
   "source": [
    "constants.angstrom"
   ]
  },
  {
   "cell_type": "code",
   "execution_count": 70,
   "id": "428e09c9",
   "metadata": {},
   "outputs": [
    {
     "data": {
      "text/plain": [
       "1e-06"
      ]
     },
     "execution_count": 70,
     "metadata": {},
     "output_type": "execute_result"
    }
   ],
   "source": [
    "constants.micron"
   ]
  },
  {
   "cell_type": "code",
   "execution_count": 71,
   "id": "a0051df4",
   "metadata": {},
   "outputs": [
    {
     "data": {
      "text/plain": [
       "149597870700.0"
      ]
     },
     "execution_count": 71,
     "metadata": {},
     "output_type": "execute_result"
    }
   ],
   "source": [
    "constants.au"
   ]
  },
  {
   "cell_type": "code",
   "execution_count": 72,
   "id": "8df63de4",
   "metadata": {},
   "outputs": [
    {
     "data": {
      "text/plain": [
       "149597870700.0"
      ]
     },
     "execution_count": 72,
     "metadata": {},
     "output_type": "execute_result"
    }
   ],
   "source": [
    "constants.astronomical_unit"
   ]
  },
  {
   "cell_type": "code",
   "execution_count": 73,
   "id": "db6ec7fc",
   "metadata": {},
   "outputs": [
    {
     "data": {
      "text/plain": [
       "3.085677581491367e+16"
      ]
     },
     "execution_count": 73,
     "metadata": {},
     "output_type": "execute_result"
    }
   ],
   "source": [
    "constants.parsec"
   ]
  },
  {
   "cell_type": "code",
   "execution_count": 74,
   "id": "b87c3180",
   "metadata": {},
   "outputs": [
    {
     "data": {
      "text/plain": [
       "101325.0"
      ]
     },
     "execution_count": 74,
     "metadata": {},
     "output_type": "execute_result"
    }
   ],
   "source": [
    "constants.atm"
   ]
  },
  {
   "cell_type": "code",
   "execution_count": 75,
   "id": "b3af952c",
   "metadata": {},
   "outputs": [
    {
     "data": {
      "text/plain": [
       "101325.0"
      ]
     },
     "execution_count": 75,
     "metadata": {},
     "output_type": "execute_result"
    }
   ],
   "source": [
    "constants.atmosphere"
   ]
  },
  {
   "cell_type": "code",
   "execution_count": 76,
   "id": "b1c2048f",
   "metadata": {},
   "outputs": [
    {
     "data": {
      "text/plain": [
       "100000.0"
      ]
     },
     "execution_count": 76,
     "metadata": {},
     "output_type": "execute_result"
    }
   ],
   "source": [
    "constants.bar"
   ]
  },
  {
   "cell_type": "code",
   "execution_count": 77,
   "id": "e7577c36",
   "metadata": {},
   "outputs": [
    {
     "data": {
      "text/plain": [
       "133.32236842105263"
      ]
     },
     "execution_count": 77,
     "metadata": {},
     "output_type": "execute_result"
    }
   ],
   "source": [
    "constants.torr"
   ]
  },
  {
   "cell_type": "code",
   "execution_count": 78,
   "id": "c825f711",
   "metadata": {},
   "outputs": [
    {
     "data": {
      "text/plain": [
       "133.32236842105263"
      ]
     },
     "execution_count": 78,
     "metadata": {},
     "output_type": "execute_result"
    }
   ],
   "source": [
    "constants.mmHg"
   ]
  },
  {
   "cell_type": "code",
   "execution_count": 79,
   "id": "7e39453d",
   "metadata": {},
   "outputs": [
    {
     "data": {
      "text/plain": [
       "6894.757293168361"
      ]
     },
     "execution_count": 79,
     "metadata": {},
     "output_type": "execute_result"
    }
   ],
   "source": [
    "constants.psi"
   ]
  },
  {
   "cell_type": "code",
   "execution_count": 80,
   "id": "d1126f1b",
   "metadata": {},
   "outputs": [
    {
     "data": {
      "text/plain": [
       "0.001"
      ]
     },
     "execution_count": 80,
     "metadata": {},
     "output_type": "execute_result"
    }
   ],
   "source": [
    "constants.liter"
   ]
  },
  {
   "cell_type": "code",
   "execution_count": 81,
   "id": "3709782e",
   "metadata": {},
   "outputs": [
    {
     "data": {
      "text/plain": [
       "0.001"
      ]
     },
     "execution_count": 81,
     "metadata": {},
     "output_type": "execute_result"
    }
   ],
   "source": [
    "constants.litre"
   ]
  },
  {
   "cell_type": "code",
   "execution_count": 82,
   "id": "77e1720d",
   "metadata": {},
   "outputs": [
    {
     "data": {
      "text/plain": [
       "0.0037854117839999997"
      ]
     },
     "execution_count": 82,
     "metadata": {},
     "output_type": "execute_result"
    }
   ],
   "source": [
    "constants.gallon"
   ]
  },
  {
   "cell_type": "code",
   "execution_count": 83,
   "id": "040a170f",
   "metadata": {},
   "outputs": [
    {
     "data": {
      "text/plain": [
       "0.0037854117839999997"
      ]
     },
     "execution_count": 83,
     "metadata": {},
     "output_type": "execute_result"
    }
   ],
   "source": [
    "constants.gallon_US"
   ]
  },
  {
   "cell_type": "code",
   "execution_count": 84,
   "id": "2c7d087d",
   "metadata": {},
   "outputs": [
    {
     "data": {
      "text/plain": [
       "0.00454609"
      ]
     },
     "execution_count": 84,
     "metadata": {},
     "output_type": "execute_result"
    }
   ],
   "source": [
    "constants.gallon_imp"
   ]
  },
  {
   "cell_type": "code",
   "execution_count": 85,
   "id": "c1a2a248",
   "metadata": {},
   "outputs": [
    {
     "data": {
      "text/plain": [
       "2.9573529562499998e-05"
      ]
     },
     "execution_count": 85,
     "metadata": {},
     "output_type": "execute_result"
    }
   ],
   "source": [
    "constants.fluid_ounce"
   ]
  },
  {
   "cell_type": "code",
   "execution_count": 86,
   "id": "a9ec558a",
   "metadata": {},
   "outputs": [
    {
     "data": {
      "text/plain": [
       "2.9573529562499998e-05"
      ]
     },
     "execution_count": 86,
     "metadata": {},
     "output_type": "execute_result"
    }
   ],
   "source": [
    "constants.fluid_ounce_US"
   ]
  },
  {
   "cell_type": "code",
   "execution_count": 87,
   "id": "24a1b2f6",
   "metadata": {},
   "outputs": [
    {
     "data": {
      "text/plain": [
       "2.84130625e-05"
      ]
     },
     "execution_count": 87,
     "metadata": {},
     "output_type": "execute_result"
    }
   ],
   "source": [
    "constants.fluid_ounce_imp"
   ]
  },
  {
   "cell_type": "code",
   "execution_count": 88,
   "id": "8d48764f",
   "metadata": {},
   "outputs": [
    {
     "data": {
      "text/plain": [
       "0.15898729492799998"
      ]
     },
     "execution_count": 88,
     "metadata": {},
     "output_type": "execute_result"
    }
   ],
   "source": [
    "constants.barrel"
   ]
  },
  {
   "cell_type": "code",
   "execution_count": 89,
   "id": "b386331a",
   "metadata": {},
   "outputs": [
    {
     "data": {
      "text/plain": [
       "0.15898729492799998"
      ]
     },
     "execution_count": 89,
     "metadata": {},
     "output_type": "execute_result"
    }
   ],
   "source": [
    "constants.bbl"
   ]
  },
  {
   "cell_type": "code",
   "execution_count": 90,
   "id": "0265c29d",
   "metadata": {},
   "outputs": [
    {
     "data": {
      "text/plain": [
       "0.2777777777777778"
      ]
     },
     "execution_count": 90,
     "metadata": {},
     "output_type": "execute_result"
    }
   ],
   "source": [
    "constants.kmh"
   ]
  },
  {
   "cell_type": "code",
   "execution_count": 91,
   "id": "a4828d1e",
   "metadata": {},
   "outputs": [
    {
     "data": {
      "text/plain": [
       "0.44703999999999994"
      ]
     },
     "execution_count": 91,
     "metadata": {},
     "output_type": "execute_result"
    }
   ],
   "source": [
    "constants.mph"
   ]
  },
  {
   "cell_type": "code",
   "execution_count": 92,
   "id": "03dfdf6c",
   "metadata": {},
   "outputs": [
    {
     "data": {
      "text/plain": [
       "340.5"
      ]
     },
     "execution_count": 92,
     "metadata": {},
     "output_type": "execute_result"
    }
   ],
   "source": [
    "constants.mach"
   ]
  },
  {
   "cell_type": "code",
   "execution_count": 93,
   "id": "b56c0977",
   "metadata": {},
   "outputs": [
    {
     "data": {
      "text/plain": [
       "0.5144444444444445"
      ]
     },
     "execution_count": 93,
     "metadata": {},
     "output_type": "execute_result"
    }
   ],
   "source": [
    "constants.knot"
   ]
  },
  {
   "cell_type": "code",
   "execution_count": 94,
   "id": "83229d52",
   "metadata": {},
   "outputs": [
    {
     "data": {
      "text/plain": [
       "340.5"
      ]
     },
     "execution_count": 94,
     "metadata": {},
     "output_type": "execute_result"
    }
   ],
   "source": [
    "constants.speed_of_sound"
   ]
  },
  {
   "cell_type": "code",
   "execution_count": 95,
   "id": "94baaf50",
   "metadata": {},
   "outputs": [
    {
     "data": {
      "text/plain": [
       "273.15"
      ]
     },
     "execution_count": 95,
     "metadata": {},
     "output_type": "execute_result"
    }
   ],
   "source": [
    "constants.zero_Celsius"
   ]
  },
  {
   "cell_type": "code",
   "execution_count": 96,
   "id": "e98c5fc8",
   "metadata": {},
   "outputs": [
    {
     "data": {
      "text/plain": [
       "0.5555555555555556"
      ]
     },
     "execution_count": 96,
     "metadata": {},
     "output_type": "execute_result"
    }
   ],
   "source": [
    "constants.degree_Fahrenheit"
   ]
  },
  {
   "cell_type": "code",
   "execution_count": 97,
   "id": "2eca730d",
   "metadata": {},
   "outputs": [
    {
     "data": {
      "text/plain": [
       "1.602176634e-19"
      ]
     },
     "execution_count": 97,
     "metadata": {},
     "output_type": "execute_result"
    }
   ],
   "source": [
    "constants.eV"
   ]
  },
  {
   "cell_type": "code",
   "execution_count": 98,
   "id": "3ceae98d",
   "metadata": {},
   "outputs": [
    {
     "data": {
      "text/plain": [
       "1.602176634e-19"
      ]
     },
     "execution_count": 98,
     "metadata": {},
     "output_type": "execute_result"
    }
   ],
   "source": [
    "constants.electron_volt"
   ]
  },
  {
   "cell_type": "code",
   "execution_count": 99,
   "id": "6f2ef1b8",
   "metadata": {},
   "outputs": [
    {
     "data": {
      "text/plain": [
       "4.184"
      ]
     },
     "execution_count": 99,
     "metadata": {},
     "output_type": "execute_result"
    }
   ],
   "source": [
    "constants.calorie"
   ]
  },
  {
   "cell_type": "code",
   "execution_count": 100,
   "id": "12e957eb",
   "metadata": {},
   "outputs": [
    {
     "data": {
      "text/plain": [
       "4.184"
      ]
     },
     "execution_count": 100,
     "metadata": {},
     "output_type": "execute_result"
    }
   ],
   "source": [
    "constants.calorie_th"
   ]
  },
  {
   "cell_type": "code",
   "execution_count": 101,
   "id": "937db0e8",
   "metadata": {},
   "outputs": [
    {
     "data": {
      "text/plain": [
       "4.1868"
      ]
     },
     "execution_count": 101,
     "metadata": {},
     "output_type": "execute_result"
    }
   ],
   "source": [
    "constants.calorie_IT"
   ]
  },
  {
   "cell_type": "code",
   "execution_count": 102,
   "id": "f325899c",
   "metadata": {},
   "outputs": [
    {
     "data": {
      "text/plain": [
       "1e-07"
      ]
     },
     "execution_count": 102,
     "metadata": {},
     "output_type": "execute_result"
    }
   ],
   "source": [
    "constants.erg"
   ]
  },
  {
   "cell_type": "code",
   "execution_count": 103,
   "id": "407568ec",
   "metadata": {},
   "outputs": [
    {
     "data": {
      "text/plain": [
       "1055.05585262"
      ]
     },
     "execution_count": 103,
     "metadata": {},
     "output_type": "execute_result"
    }
   ],
   "source": [
    "constants.Btu"
   ]
  },
  {
   "cell_type": "code",
   "execution_count": 104,
   "id": "65e334ea",
   "metadata": {},
   "outputs": [
    {
     "data": {
      "text/plain": [
       "1055.05585262"
      ]
     },
     "execution_count": 104,
     "metadata": {},
     "output_type": "execute_result"
    }
   ],
   "source": [
    "constants.Btu_IT"
   ]
  },
  {
   "cell_type": "code",
   "execution_count": 105,
   "id": "1f8292b4",
   "metadata": {},
   "outputs": [
    {
     "data": {
      "text/plain": [
       "1054.3502644888888"
      ]
     },
     "execution_count": 105,
     "metadata": {},
     "output_type": "execute_result"
    }
   ],
   "source": [
    "constants.Btu_th"
   ]
  },
  {
   "cell_type": "code",
   "execution_count": 106,
   "id": "fb6f56ac",
   "metadata": {},
   "outputs": [
    {
     "data": {
      "text/plain": [
       "4184000000.0"
      ]
     },
     "execution_count": 106,
     "metadata": {},
     "output_type": "execute_result"
    }
   ],
   "source": [
    "constants.ton_TNT"
   ]
  },
  {
   "cell_type": "code",
   "execution_count": 107,
   "id": "0ba9a1b8",
   "metadata": {},
   "outputs": [
    {
     "data": {
      "text/plain": [
       "1e-05"
      ]
     },
     "execution_count": 107,
     "metadata": {},
     "output_type": "execute_result"
    }
   ],
   "source": [
    "constants.dyn"
   ]
  },
  {
   "cell_type": "code",
   "execution_count": 108,
   "id": "5ee7d2ef",
   "metadata": {},
   "outputs": [
    {
     "data": {
      "text/plain": [
       "1e-05"
      ]
     },
     "execution_count": 108,
     "metadata": {},
     "output_type": "execute_result"
    }
   ],
   "source": [
    "constants.dyne"
   ]
  },
  {
   "cell_type": "code",
   "execution_count": 109,
   "id": "4f688800",
   "metadata": {},
   "outputs": [
    {
     "data": {
      "text/plain": [
       "4.4482216152605"
      ]
     },
     "execution_count": 109,
     "metadata": {},
     "output_type": "execute_result"
    }
   ],
   "source": [
    "constants.lbf"
   ]
  },
  {
   "cell_type": "code",
   "execution_count": 110,
   "id": "ae97b47c",
   "metadata": {},
   "outputs": [
    {
     "data": {
      "text/plain": [
       "4.4482216152605"
      ]
     },
     "execution_count": 110,
     "metadata": {},
     "output_type": "execute_result"
    }
   ],
   "source": [
    "constants.pound_force"
   ]
  },
  {
   "cell_type": "code",
   "execution_count": 111,
   "id": "0c1ad926",
   "metadata": {},
   "outputs": [
    {
     "data": {
      "text/plain": [
       "9.80665"
      ]
     },
     "execution_count": 111,
     "metadata": {},
     "output_type": "execute_result"
    }
   ],
   "source": [
    "constants.kgf"
   ]
  },
  {
   "cell_type": "code",
   "execution_count": 112,
   "id": "93dbc52f",
   "metadata": {},
   "outputs": [
    {
     "data": {
      "text/plain": [
       "9.80665"
      ]
     },
     "execution_count": 112,
     "metadata": {},
     "output_type": "execute_result"
    }
   ],
   "source": [
    "constants.kilogram_force"
   ]
  },
  {
   "cell_type": "code",
   "execution_count": null,
   "id": "a7c3aa15",
   "metadata": {},
   "outputs": [],
   "source": []
  }
 ],
 "metadata": {
  "kernelspec": {
   "display_name": "Python 3 (ipykernel)",
   "language": "python",
   "name": "python3"
  },
  "language_info": {
   "codemirror_mode": {
    "name": "ipython",
    "version": 3
   },
   "file_extension": ".py",
   "mimetype": "text/x-python",
   "name": "python",
   "nbconvert_exporter": "python",
   "pygments_lexer": "ipython3",
   "version": "3.10.9"
  }
 },
 "nbformat": 4,
 "nbformat_minor": 5
}
