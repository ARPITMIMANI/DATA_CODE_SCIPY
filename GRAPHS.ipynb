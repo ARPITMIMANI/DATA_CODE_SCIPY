{
 "cells": [
  {
   "cell_type": "code",
   "execution_count": 1,
   "id": "6d77f1aa",
   "metadata": {},
   "outputs": [
    {
     "name": "stdout",
     "output_type": "stream",
     "text": [
      "(1, array([0, 0, 0]))\n"
     ]
    }
   ],
   "source": [
    "# WORKING WITH GRAPHS : WE HAVE A MODULE NAMED AS scipy.sparse.csgraph\n",
    "# ADJACENCY MATRIX : nxn MATRIX WHERE n IS THE NUMBER OF ELEMENTS IN THE GRAPH.\n",
    "\n",
    "import numpy as np\n",
    "from scipy.sparse.csgraph import connected_components\n",
    "from scipy.sparse import csr_matrix\n",
    "\n",
    "a = np.array ([ [0,1,2] , [1,0,0] , [2,0,0] ])\n",
    "b = csr_matrix(a)\n",
    "print ( connected_components(b) )"
   ]
  },
  {
   "cell_type": "code",
   "execution_count": 2,
   "id": "29cdebca",
   "metadata": {},
   "outputs": [
    {
     "name": "stdout",
     "output_type": "stream",
     "text": [
      "(array([0., 1., 2.]), array([-9999,     0,     0]))\n"
     ]
    }
   ],
   "source": [
    "# dijkstra METHOD : FOR FINDING THE SHORTEST PATH IN A GRAPH FROM ONE ELEMENT TO ANOTHER ELEMENT.\n",
    "# IT TAKES 3 ARGUMENTS : return_predecessors , indices , limit\n",
    "# return_predecessors TAKES ONLY BOOLEAN VALUE.\n",
    "\n",
    "import numpy as np\n",
    "from scipy.sparse.csgraph import dijkstra\n",
    "from scipy.sparse import csr_matrix\n",
    "\n",
    "a = np.array ([ [0,1,2] , [1,0,0] , [2,0,0] ])\n",
    "c = csr_matrix(a)\n",
    "print ( dijkstra ( c , return_predecessors=True , indices=0 ) )"
   ]
  },
  {
   "cell_type": "code",
   "execution_count": 3,
   "id": "d9a5e234",
   "metadata": {},
   "outputs": [
    {
     "name": "stdout",
     "output_type": "stream",
     "text": [
      "(array([[0., 1., 2.],\n",
      "       [1., 0., 3.],\n",
      "       [2., 3., 0.]]), array([[-9999,     0,     0],\n",
      "       [    1, -9999,     0],\n",
      "       [    2,     0, -9999]]))\n"
     ]
    }
   ],
   "source": [
    "# floyd_warshall METHOD : IT IS FOR FINDING SHORTEST PATH BETWEEN ALL THE PAIRS OF ELEMENTS.\n",
    "\n",
    "import numpy as np\n",
    "from scipy.sparse.csgraph import floyd_warshall\n",
    "from scipy.sparse import csr_matrix\n",
    "\n",
    "a = np.array ([ [0,1,2] , [1,0,0] , [2,0,0] ])\n",
    "d = csr_matrix(a)\n",
    "print ( floyd_warshall ( d , return_predecessors=True ) )"
   ]
  },
  {
   "cell_type": "code",
   "execution_count": 4,
   "id": "72c9a329",
   "metadata": {},
   "outputs": [
    {
     "name": "stdout",
     "output_type": "stream",
     "text": [
      "(array([ 0., -1.,  2.]), array([-9999,     0,     0]))\n"
     ]
    }
   ],
   "source": [
    "''' bellman_ford METHOD : IT IS FOR FINDING SHORTEST PATH BETWEEN ALL THE PAIRS OF ELEMENTS \n",
    "BUT THIS METHOD CAN HANDLE NEGATIVE WEIGHT AS WEEL '''\n",
    "\n",
    "import numpy as np\n",
    "from scipy.sparse.csgraph import bellman_ford\n",
    "from scipy.sparse import csr_matrix\n",
    "\n",
    "e = np.array ([ [0,-1,2] , [1,0,0] , [2,0,0] ])\n",
    "f = csr_matrix(e)\n",
    "print ( bellman_ford ( f , return_predecessors=True , indices=0 ) )"
   ]
  },
  {
   "cell_type": "code",
   "execution_count": 5,
   "id": "8c67e156",
   "metadata": {},
   "outputs": [
    {
     "name": "stdout",
     "output_type": "stream",
     "text": [
      "(array([1, 0, 3, 2]), array([    1, -9999,     1,     0]))\n"
     ]
    }
   ],
   "source": [
    "# depth_first_order METHOD : IT RETURNS THE DEPTH FIRST TRAVERSAL FROM A NODE.\n",
    "# IT TAKES 2 ARGUMENTS : THE GRAPH , STARTING POINT .\n",
    "\n",
    "import numpy as np\n",
    "from scipy.sparse.csgraph import depth_first_order\n",
    "from scipy.sparse import csr_matrix\n",
    "\n",
    "g = np.array ([ [0,1,0,1] , [1,1,1,1] , [2,1,1,0] , [0,1,0,1] ])\n",
    "h = csr_matrix(g)\n",
    "print ( depth_first_order (h,1) )"
   ]
  },
  {
   "cell_type": "code",
   "execution_count": 6,
   "id": "b7af57d5",
   "metadata": {},
   "outputs": [
    {
     "name": "stdout",
     "output_type": "stream",
     "text": [
      "(array([1, 0, 2, 3]), array([    1, -9999,     1,     1]))\n"
     ]
    }
   ],
   "source": [
    "# breadth_first_order METHOD : IT RETURNS THE BREADTH FROM A NODE.\n",
    "# IT TAKES 2 ARGUMENTS : THE GRAPH , STARTING POINT .\n",
    "\n",
    "import numpy as np\n",
    "from scipy.sparse.csgraph import breadth_first_order\n",
    "from scipy.sparse import csr_matrix\n",
    "\n",
    "g = np.array ([ [0,1,0,1] , [1,1,1,1] , [2,1,1,0] , [0,1,0,1] ])\n",
    "i = csr_matrix(g)\n",
    "print ( breadth_first_order (i,1) )"
   ]
  },
  {
   "cell_type": "code",
   "execution_count": null,
   "id": "a682d51d",
   "metadata": {},
   "outputs": [],
   "source": []
  }
 ],
 "metadata": {
  "kernelspec": {
   "display_name": "Python 3 (ipykernel)",
   "language": "python",
   "name": "python3"
  },
  "language_info": {
   "codemirror_mode": {
    "name": "ipython",
    "version": 3
   },
   "file_extension": ".py",
   "mimetype": "text/x-python",
   "name": "python",
   "nbconvert_exporter": "python",
   "pygments_lexer": "ipython3",
   "version": "3.10.9"
  }
 },
 "nbformat": 4,
 "nbformat_minor": 5
}
